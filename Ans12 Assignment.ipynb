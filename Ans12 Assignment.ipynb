{
 "cells": [
  {
   "cell_type": "code",
   "execution_count": 1,
   "id": "6cce87cb",
   "metadata": {},
   "outputs": [],
   "source": [
    "import numpy as np"
   ]
  },
  {
   "cell_type": "code",
   "execution_count": 2,
   "id": "0785496b",
   "metadata": {},
   "outputs": [],
   "source": [
    "data=np.array([34,36,36,38,38,39,39,40,40,41,41,41,41,42,42,45,49,56])"
   ]
  },
  {
   "cell_type": "code",
   "execution_count": 6,
   "id": "34b7e5b7",
   "metadata": {},
   "outputs": [
    {
     "name": "stdout",
     "output_type": "stream",
     "text": [
      "Mean: 41.0\n",
      "Median 40.5\n",
      "Variance: 24.11111111111111\n",
      "std_Deviation: 4.910306620885412\n"
     ]
    }
   ],
   "source": [
    "print('Mean:',data.mean())\n",
    "print('Median',np.median(data))\n",
    "print('Variance:',data.var())\n",
    "print('std_Deviation:',data.std())"
   ]
  },
  {
   "cell_type": "code",
   "execution_count": null,
   "id": "dd89c6b3",
   "metadata": {},
   "outputs": [],
   "source": []
  }
 ],
 "metadata": {
  "kernelspec": {
   "display_name": "Python 3 (ipykernel)",
   "language": "python",
   "name": "python3"
  },
  "language_info": {
   "codemirror_mode": {
    "name": "ipython",
    "version": 3
   },
   "file_extension": ".py",
   "mimetype": "text/x-python",
   "name": "python",
   "nbconvert_exporter": "python",
   "pygments_lexer": "ipython3",
   "version": "3.9.7"
  }
 },
 "nbformat": 4,
 "nbformat_minor": 5
}
