{
 "cells": [
  {
   "cell_type": "markdown",
   "id": "297f9fc0",
   "metadata": {},
   "source": [
    "# Answer 1"
   ]
  },
  {
   "cell_type": "code",
   "execution_count": 1,
   "id": "52b32eb9",
   "metadata": {},
   "outputs": [],
   "source": [
    "import pandas as pd\n",
    "import numpy as np\n",
    "import matplotlib.pyplot as plt\n",
    "%matplotlib inline\n",
    "import seaborn as sns"
   ]
  },
  {
   "cell_type": "code",
   "execution_count": 2,
   "id": "4c4d9e37",
   "metadata": {},
   "outputs": [],
   "source": [
    "data=pd.read_csv('Q1_Assg2.csv')"
   ]
  },
  {
   "cell_type": "code",
   "execution_count": 3,
   "id": "89f17876",
   "metadata": {},
   "outputs": [
    {
     "data": {
      "text/html": [
       "<div>\n",
       "<style scoped>\n",
       "    .dataframe tbody tr th:only-of-type {\n",
       "        vertical-align: middle;\n",
       "    }\n",
       "\n",
       "    .dataframe tbody tr th {\n",
       "        vertical-align: top;\n",
       "    }\n",
       "\n",
       "    .dataframe thead th {\n",
       "        text-align: right;\n",
       "    }\n",
       "</style>\n",
       "<table border=\"1\" class=\"dataframe\">\n",
       "  <thead>\n",
       "    <tr style=\"text-align: right;\">\n",
       "      <th></th>\n",
       "      <th>Nameofcompany</th>\n",
       "      <th>MeasureX</th>\n",
       "    </tr>\n",
       "  </thead>\n",
       "  <tbody>\n",
       "    <tr>\n",
       "      <th>0</th>\n",
       "      <td>Allied Signal</td>\n",
       "      <td>0.2423</td>\n",
       "    </tr>\n",
       "    <tr>\n",
       "      <th>1</th>\n",
       "      <td>Bankers Trust</td>\n",
       "      <td>0.2553</td>\n",
       "    </tr>\n",
       "    <tr>\n",
       "      <th>2</th>\n",
       "      <td>General Mills</td>\n",
       "      <td>0.2541</td>\n",
       "    </tr>\n",
       "    <tr>\n",
       "      <th>3</th>\n",
       "      <td>ITT Industries</td>\n",
       "      <td>0.2414</td>\n",
       "    </tr>\n",
       "    <tr>\n",
       "      <th>4</th>\n",
       "      <td>J.P.Morgan &amp; Co.</td>\n",
       "      <td>0.2962</td>\n",
       "    </tr>\n",
       "  </tbody>\n",
       "</table>\n",
       "</div>"
      ],
      "text/plain": [
       "      Nameofcompany  MeasureX\n",
       "0     Allied Signal    0.2423\n",
       "1     Bankers Trust    0.2553\n",
       "2     General Mills    0.2541\n",
       "3    ITT Industries    0.2414\n",
       "4  J.P.Morgan & Co.    0.2962"
      ]
     },
     "execution_count": 3,
     "metadata": {},
     "output_type": "execute_result"
    }
   ],
   "source": [
    "data.head()"
   ]
  },
  {
   "cell_type": "code",
   "execution_count": 13,
   "id": "559cde1a",
   "metadata": {},
   "outputs": [
    {
     "name": "stdout",
     "output_type": "stream",
     "text": [
      "Mean: 0.332713\n"
     ]
    }
   ],
   "source": [
    "print('Mean:', round(data.MeasureX.mean(),6))"
   ]
  },
  {
   "cell_type": "code",
   "execution_count": 15,
   "id": "3cf972b7",
   "metadata": {},
   "outputs": [
    {
     "name": "stdout",
     "output_type": "stream",
     "text": [
      "Standard Deviation: 0.169454\n"
     ]
    }
   ],
   "source": [
    "print('Standard Deviation:',round(data.MeasureX.std(),6))"
   ]
  },
  {
   "cell_type": "code",
   "execution_count": 16,
   "id": "9887ab62",
   "metadata": {},
   "outputs": [
    {
     "name": "stdout",
     "output_type": "stream",
     "text": [
      "Var: 0.028715\n"
     ]
    }
   ],
   "source": [
    "print('Var:', round(data.MeasureX.var(),6))"
   ]
  },
  {
   "cell_type": "code",
   "execution_count": 20,
   "id": "81879cd1",
   "metadata": {},
   "outputs": [
    {
     "data": {
      "text/plain": [
       "{'whiskers': [<matplotlib.lines.Line2D at 0x1eb4cd82d90>,\n",
       "  <matplotlib.lines.Line2D at 0x1eb4c94f370>],\n",
       " 'caps': [<matplotlib.lines.Line2D at 0x1eb4c94f760>,\n",
       "  <matplotlib.lines.Line2D at 0x1eb4c94fbb0>],\n",
       " 'boxes': [<matplotlib.lines.Line2D at 0x1eb4cd82910>],\n",
       " 'medians': [<matplotlib.lines.Line2D at 0x1eb4c94f1f0>],\n",
       " 'fliers': [<matplotlib.lines.Line2D at 0x1eb4ce94760>],\n",
       " 'means': []}"
      ]
     },
     "execution_count": 20,
     "metadata": {},
     "output_type": "execute_result"
    },
    {
     "data": {
      "image/png": "[encoded data removed]",
      "text/plain": [
       "<Figure size 432x288 with 1 Axes>"
      ]
     },
     "metadata": {
      "needs_background": "light"
     },
     "output_type": "display_data"
    }
   ],
   "source": [
    "plt.boxplot(data['MeasureX'])"
   ]
  },
  {
   "cell_type": "code",
   "execution_count": null,
   "id": "659a340c",
   "metadata": {},
   "outputs": [],
   "source": []
  },
  {
   "cell_type": "code",
   "execution_count": null,
   "id": "d863a5fe",
   "metadata": {},
   "outputs": [],
   "source": []
  },
  {
   "cell_type": "code",
   "execution_count": null,
   "id": "a5889288",
   "metadata": {},
   "outputs": [],
   "source": []
  },
  {
   "cell_type": "code",
   "execution_count": null,
   "id": "51deae05",
   "metadata": {},
   "outputs": [],
   "source": []
  },
  {
   "cell_type": "code",
   "execution_count": null,
   "id": "e034fe11",
   "metadata": {},
   "outputs": [],
   "source": []
  }
 ],
 "metadata": {
  "_draft": {
   "nbviewer_url": "https://gist.github.com/6cb95e072e3ee6386c7afde7f7e6667f"
  },
  "gist": {
   "data": {
    "description": "Assignment 2 Set1 ans1.ipynb",
    "public": true
   },
   "id": "6cb95e072e3ee6386c7afde7f7e6667f"
  },
  "kernelspec": {
   "display_name": "Python 3 (ipykernel)",
   "language": "python",
   "name": "python3"
  },
  "language_info": {
   "codemirror_mode": {
    "name": "ipython",
    "version": 3
   },
   "file_extension": ".py",
   "mimetype": "text/x-python",
   "name": "python",
   "nbconvert_exporter": "python",
   "pygments_lexer": "ipython3",
   "version": "3.9.7"
  }
 },
 "nbformat": 4,
 "nbformat_minor": 5
}
