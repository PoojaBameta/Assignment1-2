{
 "cells": [
  {
   "cell_type": "code",
   "execution_count": 1,
   "id": "fcdf023b",
   "metadata": {},
   "outputs": [],
   "source": [
    "from scipy import stats"
   ]
  },
  {
   "cell_type": "code",
   "execution_count": 30,
   "id": "a89d0186",
   "metadata": {},
   "outputs": [],
   "source": [
    "# Sample Mean = 200 Standard Deviation of Sample = 30\n",
    "# Total number of Random Sample= 2000\n",
    "#Confidence Interval For Confidence Level = 94%,98%,96%\n"
   ]
  },
  {
   "cell_type": "code",
   "execution_count": 39,
   "id": "2803d2d6",
   "metadata": {},
   "outputs": [
    {
     "data": {
      "text/plain": [
       "1.8915210528214068"
      ]
     },
     "execution_count": 39,
     "metadata": {},
     "output_type": "execute_result"
    }
   ],
   "source": [
    "#Confidence level for 94%\n",
    "stats.t.ppf(0.97,df=200)"
   ]
  },
  {
   "cell_type": "code",
   "execution_count": 51,
   "id": "34aec5b1",
   "metadata": {},
   "outputs": [
    {
     "data": {
      "text/plain": [
       "(198.73, 201.27)"
      ]
     },
     "execution_count": 51,
     "metadata": {},
     "output_type": "execute_result"
    }
   ],
   "source": [
    "round(200 - stats.t.ppf(0.97,200)*30/44.7,2),round(200 + stats.t.ppf(0.97,200)*30/44.7,2)"
   ]
  },
  {
   "cell_type": "code",
   "execution_count": 33,
   "id": "b6e93b51",
   "metadata": {},
   "outputs": [],
   "source": [
    "#Confidence level for 96%"
   ]
  },
  {
   "cell_type": "code",
   "execution_count": 38,
   "id": "1007c000",
   "metadata": {},
   "outputs": [
    {
     "data": {
      "text/plain": [
       "2.0672298801850606"
      ]
     },
     "execution_count": 38,
     "metadata": {},
     "output_type": "execute_result"
    }
   ],
   "source": [
    "stats.t.ppf(0.98,df=200)"
   ]
  },
  {
   "cell_type": "code",
   "execution_count": 52,
   "id": "9f60ef17",
   "metadata": {},
   "outputs": [
    {
     "data": {
      "text/plain": [
       "(198.61, 201.39)"
      ]
     },
     "execution_count": 52,
     "metadata": {},
     "output_type": "execute_result"
    }
   ],
   "source": [
    "200 - round(stats.t.ppf(0.98,200)*30/44.7,2),round(200 + stats.t.ppf(0.98,200)*30/44.7,2)"
   ]
  },
  {
   "cell_type": "code",
   "execution_count": 47,
   "id": "235728b4",
   "metadata": {},
   "outputs": [
    {
     "data": {
      "text/plain": [
       "2.345137082249075"
      ]
     },
     "execution_count": 47,
     "metadata": {},
     "output_type": "execute_result"
    }
   ],
   "source": [
    "#Confidence level for 98%\n",
    "stats.t.ppf(0.99,df=200)"
   ]
  },
  {
   "cell_type": "code",
   "execution_count": 53,
   "id": "104f69b9",
   "metadata": {},
   "outputs": [
    {
     "data": {
      "text/plain": [
       "(198.43, 201.57)"
      ]
     },
     "execution_count": 53,
     "metadata": {},
     "output_type": "execute_result"
    }
   ],
   "source": [
    "200 - round(stats.t.ppf(0.99,200)*30/44.7,2),200 + round(stats.t.ppf(0.99,200)*30/44.7,2)"
   ]
  },
  {
   "cell_type": "code",
   "execution_count": 21,
   "id": "39fb76a6",
   "metadata": {},
   "outputs": [
    {
     "data": {
      "text/plain": [
       "(143.57619175546247, 256.42380824453755)"
      ]
     },
     "execution_count": 21,
     "metadata": {},
     "output_type": "execute_result"
    }
   ],
   "source": [
    "stats.norm.interval(0.94,\n",
    "                   loc=200,\n",
    "                   scale=30)"
   ]
  },
  {
   "cell_type": "code",
   "execution_count": 14,
   "id": "c30e64ab",
   "metadata": {},
   "outputs": [
    {
     "data": {
      "text/plain": [
       "(138.38753268104531, 261.61246731895466)"
      ]
     },
     "execution_count": 14,
     "metadata": {},
     "output_type": "execute_result"
    }
   ],
   "source": [
    "stats.norm.interval(0.96,\n",
    "                   loc=200,\n",
    "                   scale=30)"
   ]
  },
  {
   "cell_type": "code",
   "execution_count": 15,
   "id": "d09d7612",
   "metadata": {},
   "outputs": [
    {
     "data": {
      "text/plain": [
       "(130.2095637787748, 269.7904362212252)"
      ]
     },
     "execution_count": 15,
     "metadata": {},
     "output_type": "execute_result"
    }
   ],
   "source": [
    "stats.norm.interval(0.98,\n",
    "                   loc=200,\n",
    "                   scale=30)"
   ]
  },
  {
   "cell_type": "code",
   "execution_count": null,
   "id": "e24d2339",
   "metadata": {},
   "outputs": [],
   "source": []
  },
  {
   "cell_type": "code",
   "execution_count": null,
   "id": "a6144644",
   "metadata": {},
   "outputs": [],
   "source": []
  }
 ],
 "metadata": {
  "kernelspec": {
   "display_name": "Python 3 (ipykernel)",
   "language": "python",
   "name": "python3"
  },
  "language_info": {
   "codemirror_mode": {
    "name": "ipython",
    "version": 3
   },
   "file_extension": ".py",
   "mimetype": "text/x-python",
   "name": "python",
   "nbconvert_exporter": "python",
   "pygments_lexer": "ipython3",
   "version": "3.9.7"
  }
 },
 "nbformat": 4,
 "nbformat_minor": 5
}
